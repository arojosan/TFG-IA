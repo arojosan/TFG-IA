{
 "cells": [
  {
   "cell_type": "code",
   "execution_count": 1,
   "metadata": {},
   "outputs": [],
   "source": [
    "import big_o as big\n",
    "import json\n",
    "import os\n",
    "import time\n",
    "import numpy as np\n",
    "import subprocess\n",
    "\n",
    "############################## DATOS CONSTANTES MODIFICABLES ##########################\n",
    "\n",
    "NUM_EJERCICIO = 114\n",
    "NOMB_EJERCICIO = \"digito.py\"\n",
    "##USUARIO = 1024\n",
    "TYPE_EJER = \"INT\" ## Existe INT(enteros), LINT(enteros largos), STR(strings), BOOL(booleanos), WORD(lista de palabras) Y DEFF\n",
    "#LIST_TAM = [10, 300, 3000 ,10000]#, 100000] # Para probar lineales para arriba\n",
    "LIST_TAM = [100000, 300000, 500000 ,1000000]   # Para probar log y constantes\n",
    "NUM_MIN = 0\n",
    "NUM_MAX = 10000\n",
    "COSTE = 3 ## Valores 0,1,2,3,4,5 que corresponden al siguiente enumerado LOGN, N, NLOGN, N2, N3, 2^N\n",
    "DEF_LIST = [] ##Lista para definir que caracteres o numeros se quieren generar\n"
   ]
  },
  {
   "cell_type": "code",
   "execution_count": 2,
   "metadata": {},
   "outputs": [],
   "source": [
    "############################ LLAMADA A LA LIBRERIA ###########################\n",
    "def time_complex(ns, time):\n",
    "    \n",
    "    best, fitted = big.infer_big_o_class(ns, time, verbose=False)\n",
    "\n",
    "    return best, fitted"
   ]
  },
  {
   "cell_type": "code",
   "execution_count": 3,
   "metadata": {},
   "outputs": [],
   "source": [
    "############################ FUNCIONES AUXILIARES###########################\n",
    "def generador(minimo, maximo, ruta, n):\n",
    "\n",
    "    if TYPE_EJER == \"INT\":\n",
    "        dataGen = big.datagen.integers(n, minimo, maximo)\n",
    "    elif TYPE_EJER == \"LINT\":\n",
    "        dataGen = big.datagen.large_integers(n)\n",
    "    elif TYPE_EJER == \"STR\":\n",
    "        dataGen = big.datagen.strings(n)\n",
    "    elif TYPE_EJER == \"WORD\":\n",
    "        dataGen = big.datagen.words(n)\n",
    "    elif TYPE_EJER == \"BOOL\":\n",
    "        dataGen = big.datagen.booleans(n)\n",
    "    else:\n",
    "        dataGen = big.datagen.defineChars(n, DEF_LIST)\n",
    "        \n",
    "    ##print(dataGen)\n",
    "    file = open(ruta+\"/datos.txt\", \"w\")\n",
    "    file.write(str(n) + \"\\n\")\n",
    "    for i in range(n):\n",
    "        file.write(str(dataGen[i])+\"\\n\")\n",
    "    file.close()\n"
   ]
  },
  {
   "cell_type": "code",
   "execution_count": 4,
   "metadata": {},
   "outputs": [
    {
     "name": "stdout",
     "output_type": "stream",
     "text": [
      "[0.171766996383667, 0.4532284736633301, 0.7327797412872314, 1.4448168277740479] [100000, 300000, 500000, 1000000]\n"
     ]
    }
   ],
   "source": [
    "############################ DATAGEN #######################################\n",
    "\n",
    "rutaTxt ='./'+ str(NUM_EJERCICIO)\n",
    "ruta = rutaTxt + '/' + NOMB_EJERCICIO\n",
    "tiempos = []\n",
    "tamanios = []\n",
    "\n",
    "for i in range(len(LIST_TAM)+1):\n",
    "    if i >0:\n",
    "        generador(NUM_MIN, NUM_MAX, rutaTxt, LIST_TAM[i-1])\n",
    "    else:\n",
    "        generador(NUM_MIN, NUM_MAX, rutaTxt, LIST_TAM[i])\n",
    "        \n",
    "    comienzo = time.time()\n",
    "    subprocess.run(['python', ruta])\n",
    "    final = time.time()\n",
    "    totalT = final - comienzo\n",
    "    if i > 0:\n",
    "        tiempos.append(totalT)\n",
    "        tamanios.append(LIST_TAM[i-1])\n",
    "\n",
    "print(tiempos, tamanios)\n"
   ]
  },
  {
   "cell_type": "code",
   "execution_count": 5,
   "metadata": {},
   "outputs": [
    {
     "name": "stdout",
     "output_type": "stream",
     "text": [
      "[ 100000  300000  500000 1000000] [0.171767   0.45322847 0.73277974 1.44481683]\n",
      "Linear\n"
     ]
    }
   ],
   "source": [
    "############################ CLASIFICACION DEL ALGORITMO #######################################\n",
    "dfTam = np.array(LIST_TAM)\n",
    "dfTiem = np.array(tiempos)\n",
    "print(dfTam, dfTiem)\n",
    "\n",
    "\n",
    "coste = str(time_complex(dfTam,dfTiem)[0]).split(':')\n",
    "print(coste[0])\n",
    "\n",
    "##coste, otros = time_complex(dfTam,dfTiem)\n",
    "##print(coste)\n",
    "##print(otros)"
   ]
  },
  {
   "cell_type": "code",
   "execution_count": 6,
   "metadata": {},
   "outputs": [],
   "source": [
    "############################ ESCRITURA DE DATOS SIN TIPO #######################################\n",
    "file = open(\"./resultados.txt\", \"w\")\n",
    "\n",
    "for i in range(len(LIST_TAM)):\n",
    "    if i > 0:\n",
    "        file.write(\",\")\n",
    "    file.write(\"N,\" + \"seconds\") \n",
    "file.write(\"\\n\")\n",
    "for i in range(len(LIST_TAM)):\n",
    "    if i > 0:\n",
    "        file.write(\",\")\n",
    "    file.write(str(LIST_TAM[i]) + \",\" + str(tiempos[i]))\n",
    "\n",
    "file.close()"
   ]
  },
  {
   "cell_type": "code",
   "execution_count": 7,
   "metadata": {},
   "outputs": [],
   "source": [
    "############################ ESCRITURA DE DATOS CON TIPO #######################################\n",
    "file = open(\"./resultadosTipo.txt\", \"w\")\n",
    "\n",
    "for i in range(len(LIST_TAM)):\n",
    "    if i > 0:\n",
    "        file.write(\",\")\n",
    "    file.write(\"N,\" + \"seconds\") \n",
    "file.write(\",tipo\\n\")\n",
    "for i in range(len(LIST_TAM)):\n",
    "    if i > 0:\n",
    "        file.write(\",\")\n",
    "    file.write(str(LIST_TAM[i]) + \",\" + str(tiempos[i]))\n",
    "file.write(\",\"+ str(COSTE) +\"\\n\")\n",
    "file.close()"
   ]
  },
  {
   "cell_type": "code",
   "execution_count": null,
   "metadata": {},
   "outputs": [],
   "source": []
  }
 ],
 "metadata": {
  "kernelspec": {
   "display_name": "Python 3",
   "language": "python",
   "name": "python3"
  },
  "language_info": {
   "codemirror_mode": {
    "name": "ipython",
    "version": 3
   },
   "file_extension": ".py",
   "mimetype": "text/x-python",
   "name": "python",
   "nbconvert_exporter": "python",
   "pygments_lexer": "ipython3",
   "version": "3.8.5"
  }
 },
 "nbformat": 4,
 "nbformat_minor": 4
}
