{
 "cells": [
  {
   "cell_type": "code",
   "execution_count": 5,
   "metadata": {},
   "outputs": [],
   "source": [
    "import big_o as big\n",
    "import numpy as np\n",
    "import pandas as pd\n",
    "import matplotlib.pyplot as plt\n",
    "\n",
    "NUMB_DATOS = 1 ## 0(3 casos) y 1(4 casos)\n",
    "\n",
    "df = pd.read_csv(\"./auxTiempos.csv\")#, error_bad_lines=False)\n",
    "data = df.values\n",
    "\n",
    "dfTiempos = df\n",
    "dfTamanos = df\n",
    "\n",
    "#delete size data to test predictions\n",
    "if NUMB_DATOS == 1:\n",
    "    tiempos = dfTiempos.drop(['N', 'N.1', 'N.2', 'N.3', 'tipo'], axis=1)\n",
    "    tamanos = dfTamanos.drop(['seconds', 'seconds.1', 'seconds.2', 'seconds.3', 'tipo'], axis=1)\n",
    "else :\n",
    "    tiempos = dfTiempos.drop(['N', 'N.1', 'N.2', 'tipo'], axis=1)\n",
    "    tamanos = dfTamanos.drop(['seconds', 'seconds.1', 'seconds.2', 'tipo'], axis=1)\n",
    "    \n",
    "npTiempos = tiempos.values\n",
    "npTamanos = tamanos.values\n",
    "npTamanos = npTamanos.astype('int64')\n",
    "npTiempos = npTiempos.astype('float64')\n",
    "npTiempos = npTiempos.flatten().tolist()\n",
    "npTamanos = npTamanos.flatten().tolist()\n",
    "\n",
    "aTamanos = np.array(npTamanos)\n",
    "aTiempos = np.array(npTiempos)"
   ]
  },
  {
   "cell_type": "code",
   "execution_count": 6,
   "metadata": {},
   "outputs": [
    {
     "name": "stdout",
     "output_type": "stream",
     "text": [
      "Tamaños: [ 100000  300000  500000 1000000]\n",
      "Tiempos: [0.171767   0.45322847 0.73277974 1.44481683]\n"
     ]
    },
    {
     "data": {
      "image/png": "[encoded data removed]",
      "text/plain": [
       "<Figure size 432x288 with 1 Axes>"
      ]
     },
     "metadata": {
      "needs_background": "light"
     },
     "output_type": "display_data"
    }
   ],
   "source": [
    "x = aTamanos\n",
    "y = aTiempos\n",
    "\n",
    "print(\"Tamaños:\", x)\n",
    "print(\"Tiempos:\", y)\n",
    "\n",
    "plt.plot(x, y, color='green', marker='o', markerfacecolor='blue', markersize=12)\n",
    "plt.xlabel('Tamaño')\n",
    "plt.ylabel('Tiempo')\n",
    "plt.show()"
   ]
  },
  {
   "cell_type": "code",
   "execution_count": 7,
   "metadata": {},
   "outputs": [],
   "source": [
    "############################ LLAMADA A LA LIBRERIA ###########################\n",
    "def time_complex(ns, time):\n",
    "    \n",
    "    best, fitted = big.infer_big_o_class(ns, time, verbose=False)\n",
    "\n",
    "    return best, fitted"
   ]
  },
  {
   "cell_type": "code",
   "execution_count": 17,
   "metadata": {
    "scrolled": true
   },
   "outputs": [
    {
     "name": "stdout",
     "output_type": "stream",
     "text": [
      "\u001b[1mLinear: time = 0.029 + 1.4E-06*n (sec)\n",
      "\u001b[0m\n",
      "Constant: time = 0.7 (sec)                                      (res: 0.9)\n",
      "Linear: time = 0.029 + 1.4E-06*n (sec)                          (res: 1.5E-05)\n",
      "Quadratic: time = 0.85 + -4.2E-10*n^2 (sec)                     (res: 0.39)\n",
      "Cubic: time = 0.71 + -5.8E-11*n^3 (sec)                         (res: 0.86)\n",
      "Polynomial: time = -12 * x^0.92 (sec)                           (res: 0.0018)\n",
      "Logarithmic: time = -6.1 + 0.53*log(n) (sec)                    (res: 0.11)\n",
      "Linearithmic: time = 0.067 + 1E-07*n*log(n) (sec)               (res: 0.00027)\n",
      "Exponential: time = -1.7 * 2.2E-06^n (sec)                      (res: 0.24)\n"
     ]
    }
   ],
   "source": [
    "#coste = str(time_complex(aTamanos,aTiempos)[0]).split(':')\n",
    "#print('\\033[1m' + coste[0] + '\\033[0m')\n",
    "#print(coste[1])\n",
    "coste,resto = time_complex(aTamanos,aTiempos)\n",
    "\n",
    "print('\\033[1m' + str(coste) + '\\n' + '\\033[0m')\n",
    "for class_, residuals in resto.items():\n",
    "    print('{!s:<60s}    (res: {:.2G})'.format(class_, residuals))"
   ]
  },
  {
   "cell_type": "code",
   "execution_count": null,
   "metadata": {},
   "outputs": [],
   "source": []
  }
 ],
 "metadata": {
  "kernelspec": {
   "display_name": "Python 3",
   "language": "python",
   "name": "python3"
  },
  "language_info": {
   "codemirror_mode": {
    "name": "ipython",
    "version": 3
   },
   "file_extension": ".py",
   "mimetype": "text/x-python",
   "name": "python",
   "nbconvert_exporter": "python",
   "pygments_lexer": "ipython3",
   "version": "3.8.5"
  }
 },
 "nbformat": 4,
 "nbformat_minor": 4
}
